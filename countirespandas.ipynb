{
 "cells": [
  {
   "cell_type": "code",
   "execution_count": 1,
   "id": "90d697a2-590a-4542-8759-7cf6d9813b56",
   "metadata": {},
   "outputs": [],
   "source": [
    "import numpy as np \n",
    "import pandas as pd"
   ]
  },
  {
   "cell_type": "code",
   "execution_count": 26,
   "id": "afa5a33a-44c9-46fc-b461-6b69b8a2f5e1",
   "metadata": {},
   "outputs": [],
   "source": [
    "df = pd.read_csv(r'Countries.csv')"
   ]
  },
  {
   "cell_type": "code",
   "execution_count": 27,
   "id": "81830edc-4065-4a84-b556-78f42344f606",
   "metadata": {},
   "outputs": [
    {
     "data": {
      "text/html": [
       "<div>\n",
       "<style scoped>\n",
       "    .dataframe tbody tr th:only-of-type {\n",
       "        vertical-align: middle;\n",
       "    }\n",
       "\n",
       "    .dataframe tbody tr th {\n",
       "        vertical-align: top;\n",
       "    }\n",
       "\n",
       "    .dataframe thead th {\n",
       "        text-align: right;\n",
       "    }\n",
       "</style>\n",
       "<table border=\"1\" class=\"dataframe\">\n",
       "  <thead>\n",
       "    <tr style=\"text-align: right;\">\n",
       "      <th></th>\n",
       "      <th>country</th>\n",
       "      <th>country_long</th>\n",
       "      <th>currency</th>\n",
       "      <th>capital_city</th>\n",
       "      <th>region</th>\n",
       "      <th>continent</th>\n",
       "      <th>demonym</th>\n",
       "      <th>latitude</th>\n",
       "      <th>longitude</th>\n",
       "      <th>agricultural_land</th>\n",
       "      <th>...</th>\n",
       "      <th>population</th>\n",
       "      <th>women_parliament_seats_pct</th>\n",
       "      <th>rural_population</th>\n",
       "      <th>urban_population</th>\n",
       "      <th>press</th>\n",
       "      <th>democracy_score</th>\n",
       "      <th>democracy_type</th>\n",
       "      <th>median_age</th>\n",
       "      <th>political_leader</th>\n",
       "      <th>title</th>\n",
       "    </tr>\n",
       "  </thead>\n",
       "  <tbody>\n",
       "    <tr>\n",
       "      <th>0</th>\n",
       "      <td>Afghanistan</td>\n",
       "      <td>Islamic State of Afghanistan</td>\n",
       "      <td>Afghan afghani</td>\n",
       "      <td>Kabul</td>\n",
       "      <td>Southern Asia</td>\n",
       "      <td>Asia</td>\n",
       "      <td>Afghan</td>\n",
       "      <td>33.0</td>\n",
       "      <td>65.0</td>\n",
       "      <td>383560.0</td>\n",
       "      <td>...</td>\n",
       "      <td>41128771</td>\n",
       "      <td>27.01610</td>\n",
       "      <td>30181937</td>\n",
       "      <td>10946834</td>\n",
       "      <td>2.14</td>\n",
       "      <td>2.97</td>\n",
       "      <td>Authoritarian</td>\n",
       "      <td>12.9</td>\n",
       "      <td>Ashraf Ghani</td>\n",
       "      <td>President</td>\n",
       "    </tr>\n",
       "    <tr>\n",
       "      <th>1</th>\n",
       "      <td>Albania</td>\n",
       "      <td>Republic of Albania</td>\n",
       "      <td>Albanian lek</td>\n",
       "      <td>Tirana</td>\n",
       "      <td>Southern Europe</td>\n",
       "      <td>Europe</td>\n",
       "      <td>Albanian</td>\n",
       "      <td>41.0</td>\n",
       "      <td>20.0</td>\n",
       "      <td>11655.5</td>\n",
       "      <td>...</td>\n",
       "      <td>2775634</td>\n",
       "      <td>35.71430</td>\n",
       "      <td>1004807</td>\n",
       "      <td>1770827</td>\n",
       "      <td>2.62</td>\n",
       "      <td>5.98</td>\n",
       "      <td>Hybrid regime</td>\n",
       "      <td>33.7</td>\n",
       "      <td>Edi Rama</td>\n",
       "      <td>Prime Minister</td>\n",
       "    </tr>\n",
       "    <tr>\n",
       "      <th>2</th>\n",
       "      <td>Algeria</td>\n",
       "      <td>People's Democratic Republic of Algeria</td>\n",
       "      <td>Algerian dinar</td>\n",
       "      <td>Algiers</td>\n",
       "      <td>Northern Africa</td>\n",
       "      <td>Africa</td>\n",
       "      <td>Algerian</td>\n",
       "      <td>28.0</td>\n",
       "      <td>3.0</td>\n",
       "      <td>413588.0</td>\n",
       "      <td>...</td>\n",
       "      <td>44903225</td>\n",
       "      <td>8.10811</td>\n",
       "      <td>11328186</td>\n",
       "      <td>33575039</td>\n",
       "      <td>1.71</td>\n",
       "      <td>3.50</td>\n",
       "      <td>Authoritarian</td>\n",
       "      <td>24.0</td>\n",
       "      <td>Abdelmadjid Tebboune</td>\n",
       "      <td>President</td>\n",
       "    </tr>\n",
       "    <tr>\n",
       "      <th>3</th>\n",
       "      <td>Andorra</td>\n",
       "      <td>Principality of Andorra</td>\n",
       "      <td>Euro</td>\n",
       "      <td>Andorra la Vella</td>\n",
       "      <td>Southern Europe</td>\n",
       "      <td>Europe</td>\n",
       "      <td>Andorran</td>\n",
       "      <td>42.5</td>\n",
       "      <td>1.5</td>\n",
       "      <td>187.2</td>\n",
       "      <td>...</td>\n",
       "      <td>79824</td>\n",
       "      <td>46.42860</td>\n",
       "      <td>9730</td>\n",
       "      <td>70094</td>\n",
       "      <td>3.17</td>\n",
       "      <td>0.00</td>\n",
       "      <td>Unknown</td>\n",
       "      <td>38.9</td>\n",
       "      <td>Xavier Espot Zamora</td>\n",
       "      <td>Head of Government</td>\n",
       "    </tr>\n",
       "    <tr>\n",
       "      <th>4</th>\n",
       "      <td>Angola</td>\n",
       "      <td>People's Republic of Angola</td>\n",
       "      <td>Angolan kwanza</td>\n",
       "      <td>Luanda</td>\n",
       "      <td>Middle Africa</td>\n",
       "      <td>Africa</td>\n",
       "      <td>Angolan</td>\n",
       "      <td>-12.5</td>\n",
       "      <td>18.5</td>\n",
       "      <td>569525.0</td>\n",
       "      <td>...</td>\n",
       "      <td>35588987</td>\n",
       "      <td>33.63640</td>\n",
       "      <td>11359649</td>\n",
       "      <td>24229338</td>\n",
       "      <td>2.24</td>\n",
       "      <td>3.62</td>\n",
       "      <td>Authoritarian</td>\n",
       "      <td>12.4</td>\n",
       "      <td>João Lourenço</td>\n",
       "      <td>President</td>\n",
       "    </tr>\n",
       "  </tbody>\n",
       "</table>\n",
       "<p>5 rows × 64 columns</p>\n",
       "</div>"
      ],
      "text/plain": [
       "       country                             country_long        currency  \\\n",
       "0  Afghanistan             Islamic State of Afghanistan  Afghan afghani   \n",
       "1      Albania                      Republic of Albania    Albanian lek   \n",
       "2      Algeria  People's Democratic Republic of Algeria  Algerian dinar   \n",
       "3      Andorra                  Principality of Andorra            Euro   \n",
       "4       Angola              People's Republic of Angola  Angolan kwanza   \n",
       "\n",
       "       capital_city           region continent   demonym  latitude  longitude  \\\n",
       "0             Kabul    Southern Asia      Asia    Afghan      33.0       65.0   \n",
       "1            Tirana  Southern Europe    Europe  Albanian      41.0       20.0   \n",
       "2           Algiers  Northern Africa    Africa  Algerian      28.0        3.0   \n",
       "3  Andorra la Vella  Southern Europe    Europe  Andorran      42.5        1.5   \n",
       "4            Luanda    Middle Africa    Africa   Angolan     -12.5       18.5   \n",
       "\n",
       "   agricultural_land  ...  population  women_parliament_seats_pct  \\\n",
       "0           383560.0  ...    41128771                    27.01610   \n",
       "1            11655.5  ...     2775634                    35.71430   \n",
       "2           413588.0  ...    44903225                     8.10811   \n",
       "3              187.2  ...       79824                    46.42860   \n",
       "4           569525.0  ...    35588987                    33.63640   \n",
       "\n",
       "   rural_population  urban_population  press  democracy_score  democracy_type  \\\n",
       "0          30181937          10946834   2.14             2.97   Authoritarian   \n",
       "1           1004807           1770827   2.62             5.98   Hybrid regime   \n",
       "2          11328186          33575039   1.71             3.50   Authoritarian   \n",
       "3              9730             70094   3.17             0.00         Unknown   \n",
       "4          11359649          24229338   2.24             3.62   Authoritarian   \n",
       "\n",
       "   median_age      political_leader               title  \n",
       "0        12.9          Ashraf Ghani           President  \n",
       "1        33.7              Edi Rama      Prime Minister  \n",
       "2        24.0  Abdelmadjid Tebboune           President  \n",
       "3        38.9   Xavier Espot Zamora  Head of Government  \n",
       "4        12.4         João Lourenço           President  \n",
       "\n",
       "[5 rows x 64 columns]"
      ]
     },
     "execution_count": 27,
     "metadata": {},
     "output_type": "execute_result"
    }
   ],
   "source": [
    "df.head()"
   ]
  },
  {
   "cell_type": "code",
   "execution_count": 28,
   "id": "935a3bd7-6635-4f63-b1c8-4bb8de6b69ae",
   "metadata": {},
   "outputs": [
    {
     "name": "stdout",
     "output_type": "stream",
     "text": [
      "<class 'pandas.core.frame.DataFrame'>\n",
      "RangeIndex: 194 entries, 0 to 193\n",
      "Data columns (total 64 columns):\n",
      " #   Column                                   Non-Null Count  Dtype  \n",
      "---  ------                                   --------------  -----  \n",
      " 0   country                                  194 non-null    object \n",
      " 1   country_long                             194 non-null    object \n",
      " 2   currency                                 194 non-null    object \n",
      " 3   capital_city                             194 non-null    object \n",
      " 4   region                                   194 non-null    object \n",
      " 5   continent                                194 non-null    object \n",
      " 6   demonym                                  194 non-null    object \n",
      " 7   latitude                                 194 non-null    float64\n",
      " 8   longitude                                194 non-null    float64\n",
      " 9   agricultural_land                        193 non-null    float64\n",
      " 10  forest_area                              194 non-null    float64\n",
      " 11  land_area                                194 non-null    float64\n",
      " 12  rural_land                               194 non-null    float64\n",
      " 13  urban_land                               194 non-null    float64\n",
      " 14  central_government_debt_pct_gdp          120 non-null    float64\n",
      " 15  expense_pct_gdp                          156 non-null    float64\n",
      " 16  gdp                                      193 non-null    float64\n",
      " 17  inflation                                184 non-null    float64\n",
      " 18  self_employed_pct                        179 non-null    float64\n",
      " 19  tax_revenue_pct_gdp                      159 non-null    float64\n",
      " 20  unemployment_pct                         179 non-null    float64\n",
      " 21  vulnerable_employment_pct                179 non-null    float64\n",
      " 22  electricity_access_pct                   194 non-null    float64\n",
      " 23  alternative_nuclear_energy_pct           138 non-null    float64\n",
      " 24  electricty_production_coal_pct           138 non-null    float64\n",
      " 25  electricty_production_hydroelectric_pct  138 non-null    float64\n",
      " 26  electricty_production_gas_pct            138 non-null    float64\n",
      " 27  electricty_production_nuclear_pct        138 non-null    float64\n",
      " 28  electricty_production_oil_pct            138 non-null    float64\n",
      " 29  electricty_production_renewable_pct      138 non-null    float64\n",
      " 30  energy_imports_pct                       138 non-null    float64\n",
      " 31  fossil_energy_consumption_pct            168 non-null    float64\n",
      " 32  renewable_energy_consumption_pct         192 non-null    float64\n",
      " 33  co2_emissions                            191 non-null    float64\n",
      " 34  methane_emissions                        191 non-null    float64\n",
      " 35  nitrous_oxide_emissions                  191 non-null    float64\n",
      " 36  greenhouse_other_emissions               184 non-null    float64\n",
      " 37  urban_population_under_5m                194 non-null    float64\n",
      " 38  health_expenditure_pct_gdp               190 non-null    float64\n",
      " 39  health_expenditure_capita                190 non-null    float64\n",
      " 40  hospital_beds                            192 non-null    float64\n",
      " 41  hiv_incidence                            133 non-null    float64\n",
      " 42  suicide_rate                             183 non-null    float64\n",
      " 43  armed_forces                             174 non-null    float64\n",
      " 44  internally_displaced_persons             73 non-null     float64\n",
      " 45  military_expenditure_pct_gdp             163 non-null    float64\n",
      " 46  birth_rate                               194 non-null    float64\n",
      " 47  death_rate                               194 non-null    float64\n",
      " 48  fertility_rate                           193 non-null    float64\n",
      " 49  internet_pct                             194 non-null    float64\n",
      " 50  life_expectancy                          191 non-null    float64\n",
      " 51  net_migration                            194 non-null    int64  \n",
      " 52  population_female                        194 non-null    int64  \n",
      " 53  population_male                          194 non-null    int64  \n",
      " 54  population                               194 non-null    int64  \n",
      " 55  women_parliament_seats_pct               193 non-null    float64\n",
      " 56  rural_population                         194 non-null    int64  \n",
      " 57  urban_population                         194 non-null    int64  \n",
      " 58  press                                    194 non-null    float64\n",
      " 59  democracy_score                          194 non-null    float64\n",
      " 60  democracy_type                           194 non-null    object \n",
      " 61  median_age                               194 non-null    float64\n",
      " 62  political_leader                         187 non-null    object \n",
      " 63  title                                    187 non-null    object \n",
      "dtypes: float64(48), int64(6), object(10)\n",
      "memory usage: 97.1+ KB\n"
     ]
    }
   ],
   "source": [
    "df.info()"
   ]
  },
  {
   "cell_type": "code",
   "execution_count": 29,
   "id": "36d6be23-8560-413e-b045-bead7b4d9685",
   "metadata": {},
   "outputs": [
    {
     "data": {
      "text/plain": [
       "Index(['country', 'country_long', 'currency', 'capital_city', 'region',\n",
       "       'continent', 'demonym', 'latitude', 'longitude', 'agricultural_land',\n",
       "       'forest_area', 'land_area', 'rural_land', 'urban_land',\n",
       "       'central_government_debt_pct_gdp', 'expense_pct_gdp', 'gdp',\n",
       "       'inflation', 'self_employed_pct', 'tax_revenue_pct_gdp',\n",
       "       'unemployment_pct', 'vulnerable_employment_pct',\n",
       "       'electricity_access_pct', 'alternative_nuclear_energy_pct',\n",
       "       'electricty_production_coal_pct',\n",
       "       'electricty_production_hydroelectric_pct',\n",
       "       'electricty_production_gas_pct', 'electricty_production_nuclear_pct',\n",
       "       'electricty_production_oil_pct', 'electricty_production_renewable_pct',\n",
       "       'energy_imports_pct', 'fossil_energy_consumption_pct',\n",
       "       'renewable_energy_consumption_pct', 'co2_emissions',\n",
       "       'methane_emissions', 'nitrous_oxide_emissions',\n",
       "       'greenhouse_other_emissions', 'urban_population_under_5m',\n",
       "       'health_expenditure_pct_gdp', 'health_expenditure_capita',\n",
       "       'hospital_beds', 'hiv_incidence', 'suicide_rate', 'armed_forces',\n",
       "       'internally_displaced_persons', 'military_expenditure_pct_gdp',\n",
       "       'birth_rate', 'death_rate', 'fertility_rate', 'internet_pct',\n",
       "       'life_expectancy', 'net_migration', 'population_female',\n",
       "       'population_male', 'population', 'women_parliament_seats_pct',\n",
       "       'rural_population', 'urban_population', 'press', 'democracy_score',\n",
       "       'democracy_type', 'median_age', 'political_leader', 'title'],\n",
       "      dtype='object')"
      ]
     },
     "execution_count": 29,
     "metadata": {},
     "output_type": "execute_result"
    }
   ],
   "source": [
    "df.columns"
   ]
  },
  {
   "cell_type": "code",
   "execution_count": 30,
   "id": "d747de4c-969e-44ab-b1db-4a5af04d3cdb",
   "metadata": {},
   "outputs": [
    {
     "data": {
      "text/plain": [
       "75    India\n",
       "Name: country, dtype: object"
      ]
     },
     "execution_count": 30,
     "metadata": {},
     "output_type": "execute_result"
    }
   ],
   "source": [
    "#which country has higest population\n",
    "df[df['population']== df['population'].max()]['country']"
   ]
  },
  {
   "cell_type": "code",
   "execution_count": 31,
   "id": "309ca247-5edb-4839-9d55-a2195b77d299",
   "metadata": {},
   "outputs": [
    {
     "data": {
      "text/plain": [
       "75    New Delhi\n",
       "Name: capital_city, dtype: object"
      ]
     },
     "execution_count": 31,
     "metadata": {},
     "output_type": "execute_result"
    }
   ],
   "source": [
    "#capital of the country having highest population\n",
    "df[df['population']== df['population'].max()]['capital_city']"
   ]
  },
  {
   "cell_type": "code",
   "execution_count": 32,
   "id": "51902d7a-028e-459d-baaf-148741a7db43",
   "metadata": {},
   "outputs": [
    {
     "data": {
      "text/plain": [
       "179    Tuvalu\n",
       "Name: country, dtype: object"
      ]
     },
     "execution_count": 32,
     "metadata": {},
     "output_type": "execute_result"
    }
   ],
   "source": [
    "#which country has the least population\n",
    "df[df['population']== df['population'].min()]['country']"
   ]
  },
  {
   "cell_type": "code",
   "execution_count": 33,
   "id": "e198aacb-ee77-4836-9f5f-fc865ece972f",
   "metadata": {
    "scrolled": true
   },
   "outputs": [
    {
     "data": {
      "text/plain": [
       "179    Funafuti\n",
       "Name: capital_city, dtype: object"
      ]
     },
     "execution_count": 33,
     "metadata": {},
     "output_type": "execute_result"
    }
   ],
   "source": [
    "#capital of the country with least population\n",
    "df[df['population']== df['population'].min()]['capital_city']"
   ]
  },
  {
   "cell_type": "code",
   "execution_count": 34,
   "id": "351a6fd7-32a2-41cf-b2fc-b1799314ec75",
   "metadata": {},
   "outputs": [
    {
     "data": {
      "text/plain": [
       "127         Norway\n",
       "74         Iceland\n",
       "164         Sweden\n",
       "122    New Zealand\n",
       "46         Denmark\n",
       "Name: country, dtype: object"
      ]
     },
     "execution_count": 34,
     "metadata": {},
     "output_type": "execute_result"
    }
   ],
   "source": [
    "#top 5 countries with highest democratic score\n",
    "top5DemocraticCountry = df.sort_values(by='democracy_score',ascending=False)\n",
    "top5DemocraticCountry['country'].head()"
   ]
  },
  {
   "cell_type": "code",
   "execution_count": 52,
   "id": "e9ac91fb-d956-436f-b9f0-7ef92d1f4c38",
   "metadata": {},
   "outputs": [
    {
     "data": {
      "text/plain": [
       "np.int64(22)"
      ]
     },
     "execution_count": 52,
     "metadata": {},
     "output_type": "execute_result"
    }
   ],
   "source": [
    "#no. of regions \n",
    "df['region'].value_counts().count()"
   ]
  },
  {
   "cell_type": "code",
   "execution_count": 36,
   "id": "020c3d7e-b0f6-40dc-b224-67cdc8c7c79f",
   "metadata": {},
   "outputs": [
    {
     "data": {
      "text/plain": [
       "np.int64(10)"
      ]
     },
     "execution_count": 36,
     "metadata": {},
     "output_type": "execute_result"
    }
   ],
   "source": [
    "#how many countries are in Eastern europe \n",
    "df['region'].value_counts()['Eastern Europe']"
   ]
  },
  {
   "cell_type": "code",
   "execution_count": 38,
   "id": "419e217a-b2c2-4210-98e5-4eddcc83fd50",
   "metadata": {},
   "outputs": [
    {
     "data": {
      "text/plain": [
       "34    Xi Jinping\n",
       "Name: political_leader, dtype: object"
      ]
     },
     "execution_count": 38,
     "metadata": {},
     "output_type": "execute_result"
    }
   ],
   "source": [
    "#who is the leader the of the second highest populated country\n",
    "df[df['population'] == df['population'].nlargest(2).iloc[1]]['political_leader']\n"
   ]
  },
  {
   "cell_type": "code",
   "execution_count": 41,
   "id": "0c0101f4-b8a0-44fa-a48b-7d36e7215a56",
   "metadata": {},
   "outputs": [
    {
     "data": {
      "text/plain": [
       "np.int64(7)"
      ]
     },
     "execution_count": 41,
     "metadata": {},
     "output_type": "execute_result"
    }
   ],
   "source": [
    "#no of countries having leader name unknown\n",
    "df[df['political_leader'].isna()]['country'].count()\n"
   ]
  },
  {
   "cell_type": "code",
   "execution_count": 68,
   "id": "32a41b58-48e1-42d4-a475-4a7f83e933fd",
   "metadata": {},
   "outputs": [
    {
     "data": {
      "text/plain": [
       "np.int64(125)"
      ]
     },
     "execution_count": 68,
     "metadata": {},
     "output_type": "execute_result"
    }
   ],
   "source": [
    "#name the countries whose have Republic in their name\n",
    "df[df['country_long'].str.contains('Republic')]['country'].count()"
   ]
  },
  {
   "cell_type": "code",
   "execution_count": 69,
   "id": "bc78621a-5ca1-4375-8a25-fc01222344d7",
   "metadata": {},
   "outputs": [],
   "source": [
    "#find the highest populated country in  african region\n",
    "africaContinent = df[df['continent'] == 'Africa']"
   ]
  },
  {
   "cell_type": "code",
   "execution_count": 70,
   "id": "e0c61b51-22f2-4fc0-aff6-e87384389e65",
   "metadata": {},
   "outputs": [
    {
     "data": {
      "text/plain": [
       "125    Nigeria\n",
       "Name: country, dtype: object"
      ]
     },
     "execution_count": 70,
     "metadata": {},
     "output_type": "execute_result"
    }
   ],
   "source": [
    "africaContinent[africaContinent['population'] == africaContinent['population'].max()]['country']"
   ]
  },
  {
   "cell_type": "code",
   "execution_count": null,
   "id": "87861276-2cd5-4817-8ffd-fb70f346cbac",
   "metadata": {},
   "outputs": [],
   "source": []
  }
 ],
 "metadata": {
  "kernelspec": {
   "display_name": "Python 3 (ipykernel)",
   "language": "python",
   "name": "python3"
  },
  "language_info": {
   "codemirror_mode": {
    "name": "ipython",
    "version": 3
   },
   "file_extension": ".py",
   "mimetype": "text/x-python",
   "name": "python",
   "nbconvert_exporter": "python",
   "pygments_lexer": "ipython3",
   "version": "3.13.7"
  }
 },
 "nbformat": 4,
 "nbformat_minor": 5
}
